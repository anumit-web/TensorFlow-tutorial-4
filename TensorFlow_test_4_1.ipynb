{
  "nbformat": 4,
  "nbformat_minor": 0,
  "metadata": {
    "colab": {
      "provenance": [],
      "include_colab_link": true
    },
    "kernelspec": {
      "name": "python3",
      "display_name": "Python 3"
    },
    "language_info": {
      "name": "python"
    }
  },
  "cells": [
    {
      "cell_type": "markdown",
      "metadata": {
        "id": "view-in-github",
        "colab_type": "text"
      },
      "source": [
        "<a href=\"https://colab.research.google.com/github/anumit-web/TensorFlow-tutorial-4/blob/main/TensorFlow_test_4_1.ipynb\" target=\"_parent\"><img src=\"https://colab.research.google.com/assets/colab-badge.svg\" alt=\"Open In Colab\"/></a>"
      ]
    },
    {
      "cell_type": "markdown",
      "source": [
        "## TensorFlow Tutorial\n",
        "\n",
        "https://www.geeksforgeeks.org/tensorflow/"
      ],
      "metadata": {
        "id": "kxXycdC9gv14"
      }
    },
    {
      "cell_type": "markdown",
      "source": [
        "tensor means arrays.\n",
        "arrays can be 1d, 2d, 3d, 4d etc"
      ],
      "metadata": {
        "id": "1lCIR_K5ILxD"
      }
    },
    {
      "cell_type": "markdown",
      "source": [
        "working with 1d array"
      ],
      "metadata": {
        "id": "djfSYL5vKepm"
      }
    },
    {
      "cell_type": "code",
      "source": [
        "import tensorflow as tf\n",
        "t1 = tf.constant([0, 1, 2, 3, 4, 5, 6, 7])   # create 1d array\n",
        "t1\n"
      ],
      "metadata": {
        "colab": {
          "base_uri": "https://localhost:8080/"
        },
        "id": "qhGmaOzEIu5e",
        "outputId": "14df7696-9d4d-4686-cf11-fb5d1ea79deb"
      },
      "execution_count": 33,
      "outputs": [
        {
          "output_type": "execute_result",
          "data": {
            "text/plain": [
              "<tf.Tensor: shape=(8,), dtype=int32, numpy=array([0, 1, 2, 3, 4, 5, 6, 7], dtype=int32)>"
            ]
          },
          "metadata": {},
          "execution_count": 33
        }
      ]
    },
    {
      "cell_type": "code",
      "source": [
        "print(t1)"
      ],
      "metadata": {
        "colab": {
          "base_uri": "https://localhost:8080/"
        },
        "id": "W0MTpshsJFqj",
        "outputId": "b17f20ee-f5cb-4707-f757-3904cf8ed1ca"
      },
      "execution_count": 34,
      "outputs": [
        {
          "output_type": "stream",
          "name": "stdout",
          "text": [
            "tf.Tensor([0 1 2 3 4 5 6 7], shape=(8,), dtype=int32)\n"
          ]
        }
      ]
    },
    {
      "cell_type": "code",
      "source": [
        "s1 = tf.slice(t1, begin=[1], size=[3])\n",
        "print(s1) # Output: [1 2 3]"
      ],
      "metadata": {
        "colab": {
          "base_uri": "https://localhost:8080/"
        },
        "id": "-R3zB3lsJp2Y",
        "outputId": "26ee8d0f-b46d-44a7-cd9b-7a7f4ec362ed"
      },
      "execution_count": 35,
      "outputs": [
        {
          "output_type": "stream",
          "name": "stdout",
          "text": [
            "tf.Tensor([1 2 3], shape=(3,), dtype=int32)\n"
          ]
        }
      ]
    },
    {
      "cell_type": "code",
      "source": [
        "s1 = t1[1:4] # Same output as above\n",
        "print(s1)"
      ],
      "metadata": {
        "colab": {
          "base_uri": "https://localhost:8080/"
        },
        "id": "VilliyeKJ3fS",
        "outputId": "60486de0-7bbd-4096-8e7e-dbfddaa7c10c"
      },
      "execution_count": 36,
      "outputs": [
        {
          "output_type": "stream",
          "name": "stdout",
          "text": [
            "tf.Tensor([1 2 3], shape=(3,), dtype=int32)\n"
          ]
        }
      ]
    },
    {
      "cell_type": "code",
      "source": [],
      "metadata": {
        "id": "b1ItoHtJKlH2"
      },
      "execution_count": 36,
      "outputs": []
    },
    {
      "cell_type": "markdown",
      "source": [
        "working with 2d array"
      ],
      "metadata": {
        "id": "pksKOrYdKl0H"
      }
    },
    {
      "cell_type": "code",
      "source": [
        "t2 = tf.constant([[0, 1, 2],\n",
        "                  [3, 4, 5],\n",
        "                  [6, 7, 8]])\n",
        "t2"
      ],
      "metadata": {
        "colab": {
          "base_uri": "https://localhost:8080/"
        },
        "id": "fQbCGJMgh8xx",
        "outputId": "f6827841-481b-4425-dfae-dd2fb046c150"
      },
      "execution_count": 37,
      "outputs": [
        {
          "output_type": "execute_result",
          "data": {
            "text/plain": [
              "<tf.Tensor: shape=(3, 3), dtype=int32, numpy=\n",
              "array([[0, 1, 2],\n",
              "       [3, 4, 5],\n",
              "       [6, 7, 8]], dtype=int32)>"
            ]
          },
          "metadata": {},
          "execution_count": 37
        }
      ]
    },
    {
      "cell_type": "code",
      "source": [
        "# Get the first row\n",
        "first_row = tf.slice(t2, [0, 0], [1, tf.shape(t2)[1]])  # 1,3\n",
        "print('First Row:\\n', first_row)\n",
        "print(\"hello\", tf.shape(t2)[1])\n",
        "\n",
        "# Get the second column\n",
        "second_column = tf.slice(t2, [0, 1], [tf.shape(t2)[0], 1]). # 3,1\n",
        "print('\\nSecond Column:\\n', second_column)\n",
        "\n",
        "# Get the second and third columns\n",
        "second_third_columns = tf.slice(t2, [0, 1], [tf.shape(t2)[0], 2]) # 3,2\n",
        "print('\\nSecond & Third Columns:\\n', second_third_columns)"
      ],
      "metadata": {
        "colab": {
          "base_uri": "https://localhost:8080/"
        },
        "id": "Pwc_xrZAiJzT",
        "outputId": "ab7ae064-5f09-42ae-dbcc-5797264976cc"
      },
      "execution_count": 46,
      "outputs": [
        {
          "output_type": "stream",
          "name": "stdout",
          "text": [
            "First Row:\n",
            " tf.Tensor([[0 1 2]], shape=(1, 3), dtype=int32)\n",
            "hello tf.Tensor(3, shape=(), dtype=int32)\n",
            "\n",
            "Second Column:\n",
            " tf.Tensor(\n",
            "[[1]\n",
            " [4]\n",
            " [7]], shape=(3, 1), dtype=int32)\n",
            "\n",
            "Second & Third Columns:\n",
            " tf.Tensor(\n",
            "[[1 2]\n",
            " [4 5]\n",
            " [7 8]], shape=(3, 2), dtype=int32)\n"
          ]
        }
      ]
    },
    {
      "cell_type": "code",
      "source": [
        "# Get the first row\n",
        "print('First Row:\\n', t2[0])\n",
        "\n",
        "# Get the second column\n",
        "print('\\nSecond columns:\\n', t2[:, 1]) # all rows, one column only\n",
        "\n",
        "# Get the second and third columns\n",
        "print('\\nSecond & Third columns:\\n', t2[:, 1:3]) # all rows, columns start from 1"
      ],
      "metadata": {
        "id": "WsYyDggvkyR8",
        "outputId": "21ab355b-8b63-43c4-c163-93a1b9fc14d5",
        "colab": {
          "base_uri": "https://localhost:8080/"
        }
      },
      "execution_count": 48,
      "outputs": [
        {
          "output_type": "stream",
          "name": "stdout",
          "text": [
            "First Row:\n",
            " tf.Tensor([0 1 2], shape=(3,), dtype=int32)\n",
            "\n",
            "Second columns:\n",
            " tf.Tensor([1 4 7], shape=(3,), dtype=int32)\n",
            "\n",
            "Second & Third columns:\n",
            " tf.Tensor(\n",
            "[[1 2]\n",
            " [4 5]\n",
            " [7 8]], shape=(3, 2), dtype=int32)\n"
          ]
        }
      ]
    }
  ]
}
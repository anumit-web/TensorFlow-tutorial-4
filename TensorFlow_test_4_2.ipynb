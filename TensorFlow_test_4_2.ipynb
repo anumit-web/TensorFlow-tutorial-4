{
  "nbformat": 4,
  "nbformat_minor": 0,
  "metadata": {
    "colab": {
      "provenance": [],
      "include_colab_link": true
    },
    "kernelspec": {
      "name": "python3",
      "display_name": "Python 3"
    },
    "language_info": {
      "name": "python"
    }
  },
  "cells": [
    {
      "cell_type": "markdown",
      "metadata": {
        "id": "view-in-github",
        "colab_type": "text"
      },
      "source": [
        "<a href=\"https://colab.research.google.com/github/anumit-web/TensorFlow-tutorial-4/blob/main/TensorFlow_test_4_2.ipynb\" target=\"_parent\"><img src=\"https://colab.research.google.com/assets/colab-badge.svg\" alt=\"Open In Colab\"/></a>"
      ]
    },
    {
      "cell_type": "markdown",
      "source": [
        "## TensorFlow Tutorial\n",
        "\n",
        "https://www.geeksforgeeks.org/tensorflow/"
      ],
      "metadata": {
        "id": "kxXycdC9gv14"
      }
    },
    {
      "cell_type": "markdown",
      "source": [
        "# Extracting tensors\n",
        "\n",
        "grab specific elements or chunks of your data\n",
        "\n",
        "Unlike slicing, you don’t need them to be neatly lined up"
      ],
      "metadata": {
        "id": "hgjBUhblm_Iv"
      }
    },
    {
      "cell_type": "code",
      "source": [
        "import tensorflow as tf\n",
        "t1 = tf.constant([0, 1, 2, 3, 4, 5, 6, 7])\n",
        "t1\n",
        "favorites = tf.gather(t1, indices=[0, 3, 6])\n",
        "print(favorites) # Output: [0 3 6]\n"
      ],
      "metadata": {
        "id": "kN94SG1PnuJA",
        "outputId": "b657e640-0f8e-4b4a-8ea1-af6a3b4876da",
        "colab": {
          "base_uri": "https://localhost:8080/"
        }
      },
      "execution_count": 1,
      "outputs": [
        {
          "output_type": "stream",
          "name": "stdout",
          "text": [
            "tf.Tensor([0 3 6], shape=(3,), dtype=int32)\n"
          ]
        }
      ]
    },
    {
      "cell_type": "code",
      "source": [
        "t2 = tf.constant([[0, 1, 2],\n",
        "                  [3, 4, 5],\n",
        "                  [6, 7, 8]])\n",
        "t2"
      ],
      "metadata": {
        "id": "HUbmEninoApD"
      },
      "execution_count": null,
      "outputs": []
    }
  ]
}
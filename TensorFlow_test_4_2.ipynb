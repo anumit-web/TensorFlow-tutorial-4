{
  "nbformat": 4,
  "nbformat_minor": 0,
  "metadata": {
    "colab": {
      "provenance": [],
      "include_colab_link": true
    },
    "kernelspec": {
      "name": "python3",
      "display_name": "Python 3"
    },
    "language_info": {
      "name": "python"
    }
  },
  "cells": [
    {
      "cell_type": "markdown",
      "metadata": {
        "id": "view-in-github",
        "colab_type": "text"
      },
      "source": [
        "<a href=\"https://colab.research.google.com/github/anumit-web/TensorFlow-tutorial-4/blob/main/TensorFlow_test_4_2.ipynb\" target=\"_parent\"><img src=\"https://colab.research.google.com/assets/colab-badge.svg\" alt=\"Open In Colab\"/></a>"
      ]
    },
    {
      "cell_type": "markdown",
      "source": [
        "## TensorFlow Tutorial\n",
        "\n",
        "https://www.geeksforgeeks.org/tensorflow/"
      ],
      "metadata": {
        "id": "kxXycdC9gv14"
      }
    },
    {
      "cell_type": "markdown",
      "source": [
        "# Extracting tensors\n",
        "\n",
        "grab specific elements or chunks of your data\n",
        "\n",
        "Unlike slicing, you don’t need them to be neatly lined up"
      ],
      "metadata": {
        "id": "hgjBUhblm_Iv"
      }
    },
    {
      "cell_type": "code",
      "source": [
        "import tensorflow as tf\n",
        "t1 = tf.constant([0, 1, 2, 3, 4, 5, 6, 7])\n",
        "t1\n",
        "favorites = tf.gather(t1, indices=[0, 3, 6])\n",
        "print(favorites) # Output: [0 3 6]\n"
      ],
      "metadata": {
        "colab": {
          "base_uri": "https://localhost:8080/"
        },
        "id": "kN94SG1PnuJA",
        "outputId": "66a06b92-13a2-49b1-d9e9-ec3e53be8dc4"
      },
      "execution_count": 9,
      "outputs": [
        {
          "output_type": "stream",
          "name": "stdout",
          "text": [
            "tf.Tensor([0 3 6], shape=(3,), dtype=int32)\n"
          ]
        }
      ]
    },
    {
      "cell_type": "code",
      "source": [
        "t2 = tf.constant([[0, 1, 2],\n",
        "                  [3, 4, 5],\n",
        "                  [6, 7, 8]])\n",
        "t2"
      ],
      "metadata": {
        "colab": {
          "base_uri": "https://localhost:8080/"
        },
        "id": "HUbmEninoApD",
        "outputId": "05f1e60b-1008-4a4c-82dd-4e60955659b6"
      },
      "execution_count": 10,
      "outputs": [
        {
          "output_type": "execute_result",
          "data": {
            "text/plain": [
              "<tf.Tensor: shape=(3, 3), dtype=int32, numpy=\n",
              "array([[0, 1, 2],\n",
              "       [3, 4, 5],\n",
              "       [6, 7, 8]], dtype=int32)>"
            ]
          },
          "metadata": {},
          "execution_count": 10
        }
      ]
    },
    {
      "cell_type": "code",
      "source": [
        "Indices = tf.constant([1, 0])\n",
        "r = tf.gather(t2, indices=Indices, axis=0)\n",
        "print('Along Row\\n',r)\n",
        "\n",
        "c = tf.gather(t2, indices=Indices, axis=1)\n",
        "print('\\nAlong Columns\\n',c)"
      ],
      "metadata": {
        "colab": {
          "base_uri": "https://localhost:8080/"
        },
        "id": "RZw1SYZlohxu",
        "outputId": "d104320e-fb36-49d3-abd6-7e48c9a9d013"
      },
      "execution_count": 11,
      "outputs": [
        {
          "output_type": "stream",
          "name": "stdout",
          "text": [
            "Along Row\n",
            " tf.Tensor(\n",
            "[[3 4 5]\n",
            " [0 1 2]], shape=(2, 3), dtype=int32)\n",
            "\n",
            "Along Columns\n",
            " tf.Tensor(\n",
            "[[1 0]\n",
            " [4 3]\n",
            " [7 6]], shape=(3, 2), dtype=int32)\n"
          ]
        }
      ]
    },
    {
      "cell_type": "code",
      "source": [
        "t3 = tf.constant([[[1, 3, 5, 7],\n",
        "                   [9, 11, 13, 15]],\n",
        "                  [[17, 19, 21, 23],\n",
        "                   [25, 27, 29, 31]]])\n",
        "t3"
      ],
      "metadata": {
        "colab": {
          "base_uri": "https://localhost:8080/"
        },
        "id": "3UpQRpRzpfrS",
        "outputId": "79849abc-fe25-4b51-ec3e-d77b7e44c97f"
      },
      "execution_count": 12,
      "outputs": [
        {
          "output_type": "execute_result",
          "data": {
            "text/plain": [
              "<tf.Tensor: shape=(2, 2, 4), dtype=int32, numpy=\n",
              "array([[[ 1,  3,  5,  7],\n",
              "        [ 9, 11, 13, 15]],\n",
              "\n",
              "       [[17, 19, 21, 23],\n",
              "        [25, 27, 29, 31]]], dtype=int32)>"
            ]
          },
          "metadata": {},
          "execution_count": 12
        }
      ]
    },
    {
      "cell_type": "code",
      "source": [
        "Indices = [[0, 0, 0], [1, 1, 1], [1, 0, 3]]\n",
        "special_picks = tf.gather_nd(t3, indices=Indices, batch_dims=0)\n",
        "print(special_picks)"
      ],
      "metadata": {
        "colab": {
          "base_uri": "https://localhost:8080/"
        },
        "id": "dOzTsj_jptyQ",
        "outputId": "512389b3-3cdf-4e0e-ee79-6f041ef296eb"
      },
      "execution_count": 13,
      "outputs": [
        {
          "output_type": "stream",
          "name": "stdout",
          "text": [
            "tf.Tensor([ 1 27 23], shape=(3,), dtype=int32)\n"
          ]
        }
      ]
    },
    {
      "cell_type": "markdown",
      "source": [
        "## 3. Inserting tensors"
      ],
      "metadata": {
        "id": "KSRTacLKqihh"
      }
    }
  ]
}
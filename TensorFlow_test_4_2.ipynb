{
  "nbformat": 4,
  "nbformat_minor": 0,
  "metadata": {
    "colab": {
      "provenance": [],
      "include_colab_link": true
    },
    "kernelspec": {
      "name": "python3",
      "display_name": "Python 3"
    },
    "language_info": {
      "name": "python"
    }
  },
  "cells": [
    {
      "cell_type": "markdown",
      "metadata": {
        "id": "view-in-github",
        "colab_type": "text"
      },
      "source": [
        "<a href=\"https://colab.research.google.com/github/anumit-web/TensorFlow-tutorial-4/blob/main/TensorFlow_test_4_2.ipynb\" target=\"_parent\"><img src=\"https://colab.research.google.com/assets/colab-badge.svg\" alt=\"Open In Colab\"/></a>"
      ]
    },
    {
      "cell_type": "markdown",
      "source": [
        "## TensorFlow Tutorial\n",
        "\n",
        "https://www.geeksforgeeks.org/tensorflow/"
      ],
      "metadata": {
        "id": "kxXycdC9gv14"
      }
    },
    {
      "cell_type": "markdown",
      "source": [
        "tensor means arrays.\n",
        "arrays can be 1d, 2d, 3d, 4d etc"
      ],
      "metadata": {
        "id": "1lCIR_K5ILxD"
      }
    },
    {
      "cell_type": "markdown",
      "source": [
        "working with 1d array"
      ],
      "metadata": {
        "id": "djfSYL5vKepm"
      }
    }
  ]
}
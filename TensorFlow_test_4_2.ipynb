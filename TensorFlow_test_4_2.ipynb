{
  "nbformat": 4,
  "nbformat_minor": 0,
  "metadata": {
    "colab": {
      "provenance": [],
      "include_colab_link": true
    },
    "kernelspec": {
      "name": "python3",
      "display_name": "Python 3"
    },
    "language_info": {
      "name": "python"
    }
  },
  "cells": [
    {
      "cell_type": "markdown",
      "metadata": {
        "id": "view-in-github",
        "colab_type": "text"
      },
      "source": [
        "<a href=\"https://colab.research.google.com/github/anumit-web/TensorFlow-tutorial-4/blob/main/TensorFlow_test_4_2.ipynb\" target=\"_parent\"><img src=\"https://colab.research.google.com/assets/colab-badge.svg\" alt=\"Open In Colab\"/></a>"
      ]
    },
    {
      "cell_type": "markdown",
      "source": [
        "## TensorFlow Tutorial\n",
        "\n",
        "https://www.geeksforgeeks.org/tensorflow/"
      ],
      "metadata": {
        "id": "kxXycdC9gv14"
      }
    },
    {
      "cell_type": "markdown",
      "source": [
        "# Extracting tensors\n",
        "\n",
        "grab specific elements or chunks of your data\n",
        "\n",
        "Unlike slicing, you don’t need them to be neatly lined up"
      ],
      "metadata": {
        "id": "hgjBUhblm_Iv"
      }
    },
    {
      "cell_type": "code",
      "source": [
        "import tensorflow as tf\n",
        "t1 = tf.constant([0, 1, 2, 3, 4, 5, 6, 7])\n",
        "t1\n",
        "favorites = tf.gather(t1, indices=[0, 3, 6])\n",
        "print(favorites) # Output: [0 3 6]\n"
      ],
      "metadata": {
        "colab": {
          "base_uri": "https://localhost:8080/"
        },
        "id": "kN94SG1PnuJA",
        "outputId": "2dee6b82-2222-4f6d-840a-6429e116b6d2"
      },
      "execution_count": 2,
      "outputs": [
        {
          "output_type": "stream",
          "name": "stdout",
          "text": [
            "tf.Tensor([0 3 6], shape=(3,), dtype=int32)\n"
          ]
        }
      ]
    },
    {
      "cell_type": "code",
      "source": [
        "t2 = tf.constant([[0, 1, 2],\n",
        "                  [3, 4, 5],\n",
        "                  [6, 7, 8]])\n",
        "t2"
      ],
      "metadata": {
        "colab": {
          "base_uri": "https://localhost:8080/"
        },
        "id": "HUbmEninoApD",
        "outputId": "a6172509-60dc-4a12-c864-ff70ec7394a6"
      },
      "execution_count": 3,
      "outputs": [
        {
          "output_type": "execute_result",
          "data": {
            "text/plain": [
              "<tf.Tensor: shape=(3, 3), dtype=int32, numpy=\n",
              "array([[0, 1, 2],\n",
              "       [3, 4, 5],\n",
              "       [6, 7, 8]], dtype=int32)>"
            ]
          },
          "metadata": {},
          "execution_count": 3
        }
      ]
    },
    {
      "cell_type": "code",
      "source": [
        "Indices = tf.constant([1, 0])\n",
        "r = tf.gather(t2, indices=Indices, axis=0)\n",
        "print('Along Row\\n',r)\n",
        "\n",
        "c = tf.gather(t2, indices=Indices, axis=1)\n",
        "print('\\nAlong Columns\\n',c)"
      ],
      "metadata": {
        "colab": {
          "base_uri": "https://localhost:8080/"
        },
        "id": "RZw1SYZlohxu",
        "outputId": "1acd29d3-b81c-4e64-c95b-b295fc0f59e7"
      },
      "execution_count": 4,
      "outputs": [
        {
          "output_type": "stream",
          "name": "stdout",
          "text": [
            "Along Row\n",
            " tf.Tensor(\n",
            "[[3 4 5]\n",
            " [0 1 2]], shape=(2, 3), dtype=int32)\n",
            "\n",
            "Along Columns\n",
            " tf.Tensor(\n",
            "[[1 0]\n",
            " [4 3]\n",
            " [7 6]], shape=(3, 2), dtype=int32)\n"
          ]
        }
      ]
    },
    {
      "cell_type": "code",
      "source": [],
      "metadata": {
        "id": "g1JlspisojN0"
      },
      "execution_count": 4,
      "outputs": []
    }
  ]
}
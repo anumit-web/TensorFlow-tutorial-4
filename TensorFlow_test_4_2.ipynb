{
  "nbformat": 4,
  "nbformat_minor": 0,
  "metadata": {
    "colab": {
      "provenance": [],
      "include_colab_link": true
    },
    "kernelspec": {
      "name": "python3",
      "display_name": "Python 3"
    },
    "language_info": {
      "name": "python"
    }
  },
  "cells": [
    {
      "cell_type": "markdown",
      "metadata": {
        "id": "view-in-github",
        "colab_type": "text"
      },
      "source": [
        "<a href=\"https://colab.research.google.com/github/anumit-web/TensorFlow-tutorial-4/blob/main/TensorFlow_test_4_2.ipynb\" target=\"_parent\"><img src=\"https://colab.research.google.com/assets/colab-badge.svg\" alt=\"Open In Colab\"/></a>"
      ]
    },
    {
      "cell_type": "markdown",
      "source": [
        "## TensorFlow Tutorial\n",
        "\n",
        "https://www.geeksforgeeks.org/tensorflow/"
      ],
      "metadata": {
        "id": "kxXycdC9gv14"
      }
    },
    {
      "cell_type": "markdown",
      "source": [
        "# Extracting tensors\n",
        "\n",
        "grab specific elements or chunks of your data\n",
        "\n",
        "Unlike slicing, you don’t need them to be neatly lined up"
      ],
      "metadata": {
        "id": "hgjBUhblm_Iv"
      }
    },
    {
      "cell_type": "code",
      "source": [
        "import tensorflow as tf\n",
        "t1 = tf.constant([0, 1, 2, 3, 4, 5, 6, 7])\n",
        "t1\n",
        "favorites = tf.gather(t1, indices=[0, 3, 6])\n",
        "print(favorites) # Output: [0 3 6]\n"
      ],
      "metadata": {
        "colab": {
          "base_uri": "https://localhost:8080/"
        },
        "id": "kN94SG1PnuJA",
        "outputId": "2b71a5c1-09a1-4450-b4e0-f761542ae143"
      },
      "execution_count": 23,
      "outputs": [
        {
          "output_type": "stream",
          "name": "stdout",
          "text": [
            "tf.Tensor([0 3 6], shape=(3,), dtype=int32)\n"
          ]
        }
      ]
    },
    {
      "cell_type": "code",
      "source": [
        "t2 = tf.constant([[0, 1, 2],\n",
        "                  [3, 4, 5],\n",
        "                  [6, 7, 8]])\n",
        "t2"
      ],
      "metadata": {
        "colab": {
          "base_uri": "https://localhost:8080/"
        },
        "id": "HUbmEninoApD",
        "outputId": "d3c074f9-7c1d-44b2-8306-c18bbf68fbd7"
      },
      "execution_count": 24,
      "outputs": [
        {
          "output_type": "execute_result",
          "data": {
            "text/plain": [
              "<tf.Tensor: shape=(3, 3), dtype=int32, numpy=\n",
              "array([[0, 1, 2],\n",
              "       [3, 4, 5],\n",
              "       [6, 7, 8]], dtype=int32)>"
            ]
          },
          "metadata": {},
          "execution_count": 24
        }
      ]
    },
    {
      "cell_type": "code",
      "source": [
        "Indices = tf.constant([1, 0])\n",
        "r = tf.gather(t2, indices=Indices, axis=0)\n",
        "print('Along Row\\n',r)\n",
        "\n",
        "c = tf.gather(t2, indices=Indices, axis=1)\n",
        "print('\\nAlong Columns\\n',c)"
      ],
      "metadata": {
        "colab": {
          "base_uri": "https://localhost:8080/"
        },
        "id": "RZw1SYZlohxu",
        "outputId": "9c7b5df7-d8ae-4d9a-bf87-3e00accc5b70"
      },
      "execution_count": 25,
      "outputs": [
        {
          "output_type": "stream",
          "name": "stdout",
          "text": [
            "Along Row\n",
            " tf.Tensor(\n",
            "[[3 4 5]\n",
            " [0 1 2]], shape=(2, 3), dtype=int32)\n",
            "\n",
            "Along Columns\n",
            " tf.Tensor(\n",
            "[[1 0]\n",
            " [4 3]\n",
            " [7 6]], shape=(3, 2), dtype=int32)\n"
          ]
        }
      ]
    },
    {
      "cell_type": "code",
      "source": [
        "t3 = tf.constant([[[1, 3, 5, 7],\n",
        "                   [9, 11, 13, 15]],\n",
        "                  [[17, 19, 21, 23],\n",
        "                   [25, 27, 29, 31]]])\n",
        "t3"
      ],
      "metadata": {
        "colab": {
          "base_uri": "https://localhost:8080/"
        },
        "id": "3UpQRpRzpfrS",
        "outputId": "b307893b-bae7-4502-9060-f55d5b35b9d7"
      },
      "execution_count": 26,
      "outputs": [
        {
          "output_type": "execute_result",
          "data": {
            "text/plain": [
              "<tf.Tensor: shape=(2, 2, 4), dtype=int32, numpy=\n",
              "array([[[ 1,  3,  5,  7],\n",
              "        [ 9, 11, 13, 15]],\n",
              "\n",
              "       [[17, 19, 21, 23],\n",
              "        [25, 27, 29, 31]]], dtype=int32)>"
            ]
          },
          "metadata": {},
          "execution_count": 26
        }
      ]
    },
    {
      "cell_type": "code",
      "source": [
        "Indices = [[0, 0, 0], [1, 1, 1], [1, 0, 3]]\n",
        "special_picks = tf.gather_nd(t3, indices=Indices, batch_dims=0)\n",
        "print(special_picks)"
      ],
      "metadata": {
        "colab": {
          "base_uri": "https://localhost:8080/"
        },
        "id": "dOzTsj_jptyQ",
        "outputId": "be37416b-872c-4dcf-a01f-f9568aac1fd1"
      },
      "execution_count": 27,
      "outputs": [
        {
          "output_type": "stream",
          "name": "stdout",
          "text": [
            "tf.Tensor([ 1 27 23], shape=(3,), dtype=int32)\n"
          ]
        }
      ]
    },
    {
      "cell_type": "markdown",
      "source": [
        "## 3. Inserting tensors"
      ],
      "metadata": {
        "id": "KSRTacLKqihh"
      }
    },
    {
      "cell_type": "code",
      "source": [
        "import tensorflow as tf\n",
        "t4 = tf.zeros_like(tf.constant([0, 0, 0, 0, 0, 0, 0, 0]))\n",
        "t4"
      ],
      "metadata": {
        "colab": {
          "base_uri": "https://localhost:8080/"
        },
        "id": "S8KLKhaNq5p3",
        "outputId": "68ee0f10-543a-43af-e6ed-ee99c361e646"
      },
      "execution_count": 28,
      "outputs": [
        {
          "output_type": "execute_result",
          "data": {
            "text/plain": [
              "<tf.Tensor: shape=(8,), dtype=int32, numpy=array([0, 0, 0, 0, 0, 0, 0, 0], dtype=int32)>"
            ]
          },
          "metadata": {},
          "execution_count": 28
        }
      ]
    },
    {
      "cell_type": "code",
      "source": [
        "Index = [[1], [3], [6]]\n",
        "values = [10, 20, 30]\n",
        "t4 = tf.scatter_nd(indices=Index,\n",
        "                   updates=values,\n",
        "                   shape=[8])\n",
        "print(t4)  # Output: [0 10 0 20 0 0 30 0]"
      ],
      "metadata": {
        "colab": {
          "base_uri": "https://localhost:8080/"
        },
        "id": "4wq7NHYJq7_O",
        "outputId": "57fc3897-d800-4857-cd6c-518f67501d02"
      },
      "execution_count": 29,
      "outputs": [
        {
          "output_type": "stream",
          "name": "stdout",
          "text": [
            "tf.Tensor([ 0 10  0 20  0  0 30  0], shape=(8,), dtype=int32)\n"
          ]
        }
      ]
    },
    {
      "cell_type": "code",
      "source": [
        "t5 = tf.zeros(shape=(4, 5))\n",
        "t5"
      ],
      "metadata": {
        "colab": {
          "base_uri": "https://localhost:8080/"
        },
        "id": "pU_cNIZerYkt",
        "outputId": "f3855311-b5fc-4df5-dc0b-38f943d2b847"
      },
      "execution_count": 30,
      "outputs": [
        {
          "output_type": "execute_result",
          "data": {
            "text/plain": [
              "<tf.Tensor: shape=(4, 5), dtype=float32, numpy=\n",
              "array([[0., 0., 0., 0., 0.],\n",
              "       [0., 0., 0., 0., 0.],\n",
              "       [0., 0., 0., 0., 0.],\n",
              "       [0., 0., 0., 0., 0.]], dtype=float32)>"
            ]
          },
          "metadata": {},
          "execution_count": 30
        }
      ]
    },
    {
      "cell_type": "code",
      "source": [
        "Index = [[0, 0],\n",
        "         [1, 1],\n",
        "         [2, 2]]\n",
        "values = [100, 200, 300]\n",
        "t5 = tf.scatter_nd(indices=Index,\n",
        "                   updates=values,\n",
        "                   shape=t5.shape)\n",
        "print(t5)  # Output: [[100 0 0 0 0], [0 200 0 0 0], [0 0 300 0 0], [0 0 0 0 0]]"
      ],
      "metadata": {
        "colab": {
          "base_uri": "https://localhost:8080/"
        },
        "id": "RbKJz6NarsFw",
        "outputId": "68de0375-d4b2-4370-cd48-5f59c590cc56"
      },
      "execution_count": 31,
      "outputs": [
        {
          "output_type": "stream",
          "name": "stdout",
          "text": [
            "tf.Tensor(\n",
            "[[100   0   0   0   0]\n",
            " [  0 200   0   0   0]\n",
            " [  0   0 300   0   0]\n",
            " [  0   0   0   0   0]], shape=(4, 5), dtype=int32)\n"
          ]
        }
      ]
    }
  ]
}
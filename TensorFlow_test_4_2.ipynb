{
  "nbformat": 4,
  "nbformat_minor": 0,
  "metadata": {
    "colab": {
      "provenance": [],
      "include_colab_link": true
    },
    "kernelspec": {
      "name": "python3",
      "display_name": "Python 3"
    },
    "language_info": {
      "name": "python"
    }
  },
  "cells": [
    {
      "cell_type": "markdown",
      "metadata": {
        "id": "view-in-github",
        "colab_type": "text"
      },
      "source": [
        "<a href=\"https://colab.research.google.com/github/anumit-web/TensorFlow-tutorial-4/blob/main/TensorFlow_test_4_2.ipynb\" target=\"_parent\"><img src=\"https://colab.research.google.com/assets/colab-badge.svg\" alt=\"Open In Colab\"/></a>"
      ]
    },
    {
      "cell_type": "markdown",
      "source": [
        "## TensorFlow Tutorial\n",
        "\n",
        "https://www.geeksforgeeks.org/tensorflow/"
      ],
      "metadata": {
        "id": "kxXycdC9gv14"
      }
    },
    {
      "cell_type": "markdown",
      "source": [
        "# Extracting tensors\n",
        "\n",
        "grab specific elements or chunks of your data\n",
        "\n",
        "Unlike slicing, you don’t need them to be neatly lined up"
      ],
      "metadata": {
        "id": "hgjBUhblm_Iv"
      }
    },
    {
      "cell_type": "code",
      "source": [
        "import tensorflow as tf\n",
        "t1 = tf.constant([0, 1, 2, 3, 4, 5, 6, 7])\n",
        "t1\n",
        "favorites = tf.gather(t1, indices=[0, 3, 6])\n",
        "print(favorites) # Output: [0 3 6]\n"
      ],
      "metadata": {
        "colab": {
          "base_uri": "https://localhost:8080/"
        },
        "id": "kN94SG1PnuJA",
        "outputId": "27e96eff-2221-4fc7-b5c0-838d86653ebd"
      },
      "execution_count": 14,
      "outputs": [
        {
          "output_type": "stream",
          "name": "stdout",
          "text": [
            "tf.Tensor([0 3 6], shape=(3,), dtype=int32)\n"
          ]
        }
      ]
    },
    {
      "cell_type": "code",
      "source": [
        "t2 = tf.constant([[0, 1, 2],\n",
        "                  [3, 4, 5],\n",
        "                  [6, 7, 8]])\n",
        "t2"
      ],
      "metadata": {
        "colab": {
          "base_uri": "https://localhost:8080/"
        },
        "id": "HUbmEninoApD",
        "outputId": "4418ea25-2382-4f49-acc9-c8f6bec8ca4f"
      },
      "execution_count": 15,
      "outputs": [
        {
          "output_type": "execute_result",
          "data": {
            "text/plain": [
              "<tf.Tensor: shape=(3, 3), dtype=int32, numpy=\n",
              "array([[0, 1, 2],\n",
              "       [3, 4, 5],\n",
              "       [6, 7, 8]], dtype=int32)>"
            ]
          },
          "metadata": {},
          "execution_count": 15
        }
      ]
    },
    {
      "cell_type": "code",
      "source": [
        "Indices = tf.constant([1, 0])\n",
        "r = tf.gather(t2, indices=Indices, axis=0)\n",
        "print('Along Row\\n',r)\n",
        "\n",
        "c = tf.gather(t2, indices=Indices, axis=1)\n",
        "print('\\nAlong Columns\\n',c)"
      ],
      "metadata": {
        "colab": {
          "base_uri": "https://localhost:8080/"
        },
        "id": "RZw1SYZlohxu",
        "outputId": "1a722b42-290e-4f93-b86f-2631f8e0d263"
      },
      "execution_count": 16,
      "outputs": [
        {
          "output_type": "stream",
          "name": "stdout",
          "text": [
            "Along Row\n",
            " tf.Tensor(\n",
            "[[3 4 5]\n",
            " [0 1 2]], shape=(2, 3), dtype=int32)\n",
            "\n",
            "Along Columns\n",
            " tf.Tensor(\n",
            "[[1 0]\n",
            " [4 3]\n",
            " [7 6]], shape=(3, 2), dtype=int32)\n"
          ]
        }
      ]
    },
    {
      "cell_type": "code",
      "source": [
        "t3 = tf.constant([[[1, 3, 5, 7],\n",
        "                   [9, 11, 13, 15]],\n",
        "                  [[17, 19, 21, 23],\n",
        "                   [25, 27, 29, 31]]])\n",
        "t3"
      ],
      "metadata": {
        "colab": {
          "base_uri": "https://localhost:8080/"
        },
        "id": "3UpQRpRzpfrS",
        "outputId": "c3088d82-7005-408c-ad3c-a2a15b3d36d8"
      },
      "execution_count": 17,
      "outputs": [
        {
          "output_type": "execute_result",
          "data": {
            "text/plain": [
              "<tf.Tensor: shape=(2, 2, 4), dtype=int32, numpy=\n",
              "array([[[ 1,  3,  5,  7],\n",
              "        [ 9, 11, 13, 15]],\n",
              "\n",
              "       [[17, 19, 21, 23],\n",
              "        [25, 27, 29, 31]]], dtype=int32)>"
            ]
          },
          "metadata": {},
          "execution_count": 17
        }
      ]
    },
    {
      "cell_type": "code",
      "source": [
        "Indices = [[0, 0, 0], [1, 1, 1], [1, 0, 3]]\n",
        "special_picks = tf.gather_nd(t3, indices=Indices, batch_dims=0)\n",
        "print(special_picks)"
      ],
      "metadata": {
        "colab": {
          "base_uri": "https://localhost:8080/"
        },
        "id": "dOzTsj_jptyQ",
        "outputId": "3089f938-d4dc-4f8d-d9dc-4a5728c8a5fb"
      },
      "execution_count": 18,
      "outputs": [
        {
          "output_type": "stream",
          "name": "stdout",
          "text": [
            "tf.Tensor([ 1 27 23], shape=(3,), dtype=int32)\n"
          ]
        }
      ]
    },
    {
      "cell_type": "markdown",
      "source": [
        "## 3. Inserting tensors"
      ],
      "metadata": {
        "id": "KSRTacLKqihh"
      }
    },
    {
      "cell_type": "code",
      "source": [
        "import tensorflow as tf\n",
        "t4 = tf.zeros_like(tf.constant([0, 0, 0, 0, 0, 0, 0, 0]))\n",
        "t4"
      ],
      "metadata": {
        "colab": {
          "base_uri": "https://localhost:8080/"
        },
        "id": "S8KLKhaNq5p3",
        "outputId": "ce367c4e-553c-45c4-9497-c0b877b8289e"
      },
      "execution_count": 19,
      "outputs": [
        {
          "output_type": "execute_result",
          "data": {
            "text/plain": [
              "<tf.Tensor: shape=(8,), dtype=int32, numpy=array([0, 0, 0, 0, 0, 0, 0, 0], dtype=int32)>"
            ]
          },
          "metadata": {},
          "execution_count": 19
        }
      ]
    },
    {
      "cell_type": "code",
      "source": [
        "Index = [[1], [3], [6]]\n",
        "values = [10, 20, 30]\n",
        "t4 = tf.scatter_nd(indices=Index,\n",
        "                   updates=values,\n",
        "                   shape=[8])\n",
        "print(t4)  # Output: [0 10 0 20 0 0 30 0]"
      ],
      "metadata": {
        "colab": {
          "base_uri": "https://localhost:8080/"
        },
        "id": "4wq7NHYJq7_O",
        "outputId": "6543faef-a55a-4668-8864-3db2691182ca"
      },
      "execution_count": 20,
      "outputs": [
        {
          "output_type": "stream",
          "name": "stdout",
          "text": [
            "tf.Tensor([ 0 10  0 20  0  0 30  0], shape=(8,), dtype=int32)\n"
          ]
        }
      ]
    },
    {
      "cell_type": "code",
      "source": [
        "t5 = tf.zeros(shape=(4, 5))\n",
        "t5"
      ],
      "metadata": {
        "id": "pU_cNIZerYkt",
        "outputId": "6970c4ac-696a-43ef-8258-1a7110ebd328",
        "colab": {
          "base_uri": "https://localhost:8080/"
        }
      },
      "execution_count": 21,
      "outputs": [
        {
          "output_type": "execute_result",
          "data": {
            "text/plain": [
              "<tf.Tensor: shape=(4, 5), dtype=float32, numpy=\n",
              "array([[0., 0., 0., 0., 0.],\n",
              "       [0., 0., 0., 0., 0.],\n",
              "       [0., 0., 0., 0., 0.],\n",
              "       [0., 0., 0., 0., 0.]], dtype=float32)>"
            ]
          },
          "metadata": {},
          "execution_count": 21
        }
      ]
    },
    {
      "cell_type": "code",
      "source": [
        "Index = [[0, 0],\n",
        "         [1, 1],\n",
        "         [2, 2]]\n",
        "values = [100, 200, 300]\n",
        "t5 = tf.scatter_nd(indices=Index,\n",
        "                   updates=values,\n",
        "                   shape=t5.shape)\n",
        "print(t5)  # Output: [[100 0 0 0 0], [0 200 0 0 0], [0 0 300 0 0], [0 0 0 0 0]]"
      ],
      "metadata": {
        "id": "RbKJz6NarsFw",
        "outputId": "c1e4b0f9-e2ad-40aa-9f3a-09e1ca53502e",
        "colab": {
          "base_uri": "https://localhost:8080/"
        }
      },
      "execution_count": 22,
      "outputs": [
        {
          "output_type": "stream",
          "name": "stdout",
          "text": [
            "tf.Tensor(\n",
            "[[100   0   0   0   0]\n",
            " [  0 200   0   0   0]\n",
            " [  0   0 300   0   0]\n",
            " [  0   0   0   0   0]], shape=(4, 5), dtype=int32)\n"
          ]
        }
      ]
    }
  ]
}